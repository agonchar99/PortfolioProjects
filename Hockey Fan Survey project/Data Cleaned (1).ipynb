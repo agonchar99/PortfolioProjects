{
 "cells": [
  {
   "cell_type": "code",
   "execution_count": 1,
   "metadata": {},
   "outputs": [],
   "source": [
    "import pandas as pd\n",
    "\n",
    "hockey = pd.read_csv('hockey.csv')\n",
    "\n",
    "#Pre clean\n",
    "hockey = hockey.iloc[:,1:]\n",
    "hockey.dropna(subset=['Q2'], inplace= True)"
   ]
  },
  {
   "cell_type": "code",
   "execution_count": 2,
   "metadata": {},
   "outputs": [],
   "source": [
    "pop = pd.DataFrame(hockey.groupby('Q13')['Q42'].value_counts(normalize= True)).to_dict(orient='index')"
   ]
  },
  {
   "cell_type": "code",
   "execution_count": 3,
   "metadata": {},
   "outputs": [],
   "source": [
    "import numpy as np\n",
    "np.random.seed(7)\n",
    "\n",
    "# Build the function to adapt NA in dependent variable based on binomial distribution\n",
    "def na_adapt(Satisfaction):\n",
    "    p = pop[(Satisfaction, 'No')]['Q42']\n",
    "    result = int(np.random.binomial(n = 1,p = p, size = 1))\n",
    "    return result"
   ]
  },
  {
   "cell_type": "code",
   "execution_count": 4,
   "metadata": {},
   "outputs": [
    {
     "name": "stderr",
     "output_type": "stream",
     "text": [
      "/var/folders/kw/42q7mgtn5ws_qxs58bv83bxc0000gn/T/ipykernel_37990/1380576094.py:7: SettingWithCopyWarning: \n",
      "A value is trying to be set on a copy of a slice from a DataFrame.\n",
      "Try using .loc[row_indexer,col_indexer] = value instead\n",
      "\n",
      "See the caveats in the documentation: https://pandas.pydata.org/pandas-docs/stable/user_guide/indexing.html#returning-a-view-versus-a-copy\n",
      "  not_na_hockey['Q42'] = not_na_hockey['Q42'].apply(lambda x: 0 if x == 'Yes' else 1)\n"
     ]
    },
    {
     "data": {
      "text/plain": [
       "0    389\n",
       "1     24\n",
       "Name: Q42, dtype: int64"
      ]
     },
     "execution_count": 4,
     "metadata": {},
     "output_type": "execute_result"
    }
   ],
   "source": [
    "# Apply the function to all of the NA\n",
    "na_hockey = hockey[hockey['Q42'].isna()].dropna(subset= ['Q13'])\n",
    "na_hockey['Q42'] = na_hockey['Q13'].apply(lambda x : na_adapt(Satisfaction= x))\n",
    "\n",
    "# Convert not NA to 0/1 variable\n",
    "not_na_hockey = hockey.dropna(subset = ['Q42'])\n",
    "not_na_hockey['Q42'] = not_na_hockey['Q42'].apply(lambda x: 0 if x == 'Yes' else 1)\n",
    "\n",
    "#Concat two dataframe\n",
    "hockey = pd.concat([na_hockey, not_na_hockey])\n",
    "hockey['Q42'].value_counts()"
   ]
  },
  {
   "cell_type": "code",
   "execution_count": 5,
   "metadata": {},
   "outputs": [],
   "source": [
    "hockey.to_csv('hockey_cleaned.csv')"
   ]
  },
  {
   "cell_type": "code",
   "execution_count": 6,
   "metadata": {},
   "outputs": [
    {
     "name": "stderr",
     "output_type": "stream",
     "text": [
      "/var/folders/kw/42q7mgtn5ws_qxs58bv83bxc0000gn/T/ipykernel_37990/1348181700.py:20: SettingWithCopyWarning: \n",
      "A value is trying to be set on a copy of a slice from a DataFrame\n",
      "\n",
      "See the caveats in the documentation: https://pandas.pydata.org/pandas-docs/stable/user_guide/indexing.html#returning-a-view-versus-a-copy\n",
      "  hockey[Q13_ls].fillna(2, inplace= True)\n"
     ]
    }
   ],
   "source": [
    "# Other Dummy Variable\n",
    "\n",
    "# Q31 list:\n",
    "Q13_ls = []\n",
    "for i in range(1,13):\n",
    "    Q13_ls.append('Q31_' + str(i))\n",
    "\n",
    "mapping = {'Very poor': 0, 'Poor': 1, 'Okay': 2, 'Good': 3, 'Very good': 4}\n",
    "\n",
    "hockey[Q13_ls] = hockey[Q13_ls].apply(lambda x: x.map(mapping))\n",
    "\n",
    "#Q32\n",
    "mapping1 = {'Very unlikely': 0, 'Unlikely': 1, 'Neither unlikely nor likely': 2, 'Likely': 3, 'Very likely': 4}\n",
    "hockey['Q32'] = hockey['Q32'].map(mapping1)\n",
    "\n",
    "#Q33\n",
    "hockey['Q33'] = hockey['Q33'].apply(lambda x: 1 if x == 'Yes' else 0)\n",
    "\n",
    "#Fill na\n",
    "hockey[Q13_ls].fillna(2, inplace= True)\n",
    "hockey['Q32'].fillna(2, inplace= True)"
   ]
  },
  {
   "cell_type": "code",
   "execution_count": null,
   "metadata": {},
   "outputs": [],
   "source": []
  },
  {
   "cell_type": "code",
   "execution_count": null,
   "metadata": {},
   "outputs": [],
   "source": []
  }
 ],
 "metadata": {
  "kernelspec": {
   "display_name": "tsp",
   "language": "python",
   "name": "python3"
  },
  "language_info": {
   "codemirror_mode": {
    "name": "ipython",
    "version": 3
   },
   "file_extension": ".py",
   "mimetype": "text/x-python",
   "name": "python",
   "nbconvert_exporter": "python",
   "pygments_lexer": "ipython3",
   "version": "3.9.10"
  },
  "orig_nbformat": 4
 },
 "nbformat": 4,
 "nbformat_minor": 2
}
